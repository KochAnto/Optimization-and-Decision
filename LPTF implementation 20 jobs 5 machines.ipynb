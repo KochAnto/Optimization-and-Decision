{
 "cells": [
  {
   "cell_type": "code",
   "execution_count": 1,
   "id": "initial_id",
   "metadata": {
    "collapsed": true,
    "ExecuteTime": {
     "end_time": "2024-03-25T10:34:23.786406300Z",
     "start_time": "2024-03-25T10:34:22.749085800Z"
    }
   },
   "outputs": [],
   "source": [
    "import time\n",
    "import matplotlib.pyplot as plt\n",
    "start_time = time.time()"
   ]
  },
  {
   "cell_type": "code",
   "outputs": [
    {
     "name": "stdout",
     "output_type": "stream",
     "text": [
      "[(54, 79, 16, 66, 58), (83, 3, 89, 58, 56), (15, 11, 49, 31, 20), (71, 99, 15, 68, 85), (77, 56, 89, 78, 53), (36, 70, 45, 91, 35), (53, 99, 60, 13, 53), (38, 60, 23, 59, 41), (27, 5, 57, 49, 69), (87, 56, 64, 85, 13), (76, 3, 7, 85, 86), (91, 61, 1, 9, 72), (14, 73, 63, 39, 8), (29, 75, 41, 41, 49), (12, 47, 63, 56, 47), (77, 14, 47, 40, 87), (32, 21, 26, 54, 58), (87, 86, 75, 77, 18), (68, 5, 77, 51, 68), (94, 77, 40, 31, 28)]\n"
     ]
    }
   ],
   "source": [
    "def problem_import(index):\n",
    "    # Given matrix as a string\n",
    "    data_set = {}\n",
    "    data_set[0] = \"\"\"\n",
    "    5 4 4 3 1\n",
    "    5 4 4 6 2\n",
    "    3 2 3 3 4\n",
    "    6 4 4 2 4\n",
    "    3 4 1 5 4\n",
    "    \"\"\"\n",
    "    data_set[1] = \"\"\"\n",
    "     54 83 15 71 77 36 53 38 27 87 76 91 14 29 12 77 32 87 68 94\n",
    "     79  3 11 99 56 70 99 60  5 56  3 61 73 75 47 14 21 86  5 77\n",
    "     16 89 49 15 89 45 60 23 57 64  7  1 63 41 63 47 26 75 77 40\n",
    "     66 58 31 68 78 91 13 59 49 85 85  9 39 41 56 40 54 77 51 31\n",
    "     58 56 20 85 53 35 53 41 69 13 86 72  8 49 47 87 58 18 68 28\n",
    "    \"\"\"\n",
    "    data_set[2] = \"\"\"\n",
    "      68 40 43 72 87 59 67 89 84 43 92 90 23 20 97 57 33  7 69 56 16 41  7 74 54 67 15 85 83 42 29 64  3  9 35 24 72 70 47 78 60 11 60  5 24 52 39 14 65 99 69 96 54 37 35 19 10 88 61 95 18 49 69 86 28  6 40 88 94 78 43 31 54 80 11 27  3 32  2 49 27 81 18 83 84 49 64 20 52 42 51 66 95 18 37 70 22 87 67 15  1 37 91 59  2 44 29 37 30 20 19 79 41 79 49 21 97 86 15 57 76 14 57 80 93 31 66 30 82 11 71 94 35 71 76 76 26 31 58 31 98 26 92 11 72 46 20 38 57  5 19 65 35 89 41 15 99 19 74 63 92 29 47 80  7 43 89  9 99 38 76 52 48 55 17 63 92 77 31 44 76 18  7 40 47 73 41 70 86  8 63 77 91 24 19 63 72 17 46 66\n",
    "    10 76 75 29 10 86 62 26  1 62 89  2 62 96 99 91 85 42  7  4 23 74 83 41 63 99 55 37 23  1 84 46 31 93 79 32 71 60 42 24 51 98 64 85 31 11 95 58 57 28 76 40 96 54 91 90 41 72 37 38 64 98 36 20  3 41 93 44  3 19 66 55 66 68  1  5 59 64  1  5 11 46 10 56 25 95 12 48 11 45 25 62 12 67 17 59 30 73 34 27 50 87 77 88 80 75 41 84 24 27 52 73 75 23 52 97 40 50 95 34  2 76 26 48 16 20 86 62 54 50 26  4  4 59 24 14 49 35 78 77 72 10 87 24 26 46 40 86 40  8 39 11 96 74 22 22 50  6 95 83 70  1  8 94 65 70 61 80 82 23 51 92 25 23 40 69 42 13 17 27 74  7 25 73 81 84 40 28 86 17 66 33 20 84 23 73 25 87  2 15\n",
    "    77 30 88 21 29 12  2 95 24 20 66 82 45  4 22 81 56 85  3 82 94 72 96 55  3 63 65 20  4 95 20 57 38 46 76 10 79  7 12 60 85 73 18 75 77 71 83 63 52 66 30 71 57 83 34 31 11 50 22  7 82 34  5 62  3 68 35 79 10 60 67 10 87 25 24  4 36 44 22  8 49 97  8  9 18 34 54 42 70 59  8 29  6 42 33 67  7 64  7 60 79 26 57 98 27 66 89 90 44 91 36 66 71 32 80 25 32 39 38  5 97 56 65 14 58 35 97 24 46 91 53 29 72 43 62 27 57 14 92 69 61  8 78 43 53  2 72 23 85 49  6 34  6 51 17 66 31 58 84 70 87 99 88 60  4  2 99 79 49 53 16 64 72 59 62 66 92 28 72 50 80 48 12 32 76 33 65 18 88 60 67 54 61 72 50 42 30 24 27  6\n",
    "    68 48 56 54 38 65 56 29 21 99 34 25 66 54  1 52 23 50 61 36 60  1 57 38 68 45 85 13 55 98 12 97  6 94 43 86  2 84 94 28 68 45 43 89 86  8 32 62 11 36  3 23 79 99 57  4 69 69 30 99 51 66 33 13 89 73 26 25 88 70 72 56  1  6 97 57 64 40  4 71 84 50  1 30 84 33 69 19 37 25 27 71 55 19 43 80 93 76 52 26 70 36 23 72 23 28 14 48 54 86 81 12 26 76 41 89 70 54  6 65  7 14 88 98 57 19 72 41 40 62 47 65 14 99 65 14 99 65 62 30  6 80 52 35 25 54 44 40 99 21 74 10 46 99 88 91 57 85 62 46 88 11 27 35 50 68 58 47 44 37 76 30 98 57  7 15 84 39 62  1 41 59 92 51 82 49 78 87 60 55 57 70 11 62 53 95 97  9 85 17\n",
    "    26 97  5 89 77 47 60 12 96 63 27 87 46 10 97 59 58 73 11 31 41 23 36 54  7 31 90 83 65 61 15 10 61 55 81 87 81 50 43 67 54 79 26 64 83 56  8 78 27  1 97 35 29 22 16 87 79 82 65 62 99 22 79 37 31 30 40 93 22 91  8 44 95 93 83 38 74 24 50 75 60 15 73 68 63 79 40  2 45 94  3 16 29 55  3 72 87 64 33 64 64 32 23 94 93 69 75 65 68 93  4 91 15 83 38 34 67 24 78 41 87 55 83  5 34 16 57 66 23 13 35  8 17 20 18 66 10 48 71 64 97 59 25 67  5 15 33  6 27 34 12 28 15 36 22 82 43 97  6 28 65 45 73 63 41 12 11 85 82 41 87 84 25 59 89 86 15 17 44 71 15 10 68 58 33 14  3 89 94 19 33 55 55 37 26 22 75  4 82 30\n",
    "    99 58 61 33 30 49 54 36 38 63 97 45 65 26 76 23 40 91 51 41  8 42 71 20 54 19 32 65 27 20 99 81 87  4 10  2 61 10 22 59 45  8 27 24 53 53 84 46 17  5 77 96 41  3 99 99 37  2 10 40 63 29 82 14 39 11 18 44 37 77 40 81 28 52 64 21 39 97 37 40 75  9  4 69 22 54 86 41 59 56 76 47 53 38  6 26 27 81 17 87 22 32 34 37 58  7 53 70 20 88 34 34 27 40 46 38 35 99 65 58 17  5 41 46 14 10 70 44 97 79 50 57 68 80 47 27 12 24 88  3 98 29 23  8 55 86 98 90 46 22 19 24 95 75 97 95 99 78 30  6 86 59  7 61 53 54 25 55  8 80 52 67 17 78 57 92  1 42 70 34 86 78 69 87 49 34 80 38 14 93 86 35 18 11 19 29 56  2 58  2\n",
    "    88 35 33 93 84 19 43 14 22  1 55  5 14 82 84 10 17 39 39 75 59 51 30 71 95 17 46 61 37 93 28 57  7 53 82 22 50 93 29  9 76 20  6 39 49 31 20 79 46 22 78 19 87 85  8  2 57 99 69 55 14 24 42 64 96 40 87 43 96 94 75 27 97 51 75 33 13 32 93 53 38 16 45 79 90 48 37 72 53 71 22 63 25  9 38 58 42 84 54 58 12 99 24 85 35 13 20 54 46 23 27 90 74 96 52 55 12 61 63 13 56 49 50 85 42 52 54 47 70 36 49 81 23 64 20 97 36 36 53 88 42 93 94 61 92 16  4 88 75 85 28  7 84 63 69 94 23  2 43 26  7 44 12 51 19  5 62 28 96  9 70  8 94 22 74 94 13  9 95 78 51 26 58 53 31 74 35 59 39 53 53 43 18 37  8 69 18 68 63 48\n",
    "    68 29 75 63  2 18 43  6 13 55 84  1 70 25 38 98 17 23 28 80 24 29 16 13 35 31 40 40 22 59 78 10 94 80 86 18 34 69 94  9 87 24 44 31 38 25 29 70  3 69 77 26 63 91 49  5 30 79 59 73 40 54 30 18 18 62 20 26 52 90 47 99 18 69 40 21 49 18 89 86 28 53 14 91 87 18 51 73 35 38 53 41 29 44  8 93 47 26 61 47 99 57 50 48 50  2 20 80  6 75 70 16 73  4 45 92 15 70 41  6 42 42 21  7 43 64 89 77 41 93 33 36 73 66 64 43  8 75 50 11 41 50 15 71 76 73 23 21 80 40 43 40  6  4 46 30 66 16 26 25 39 69 45 39 90 50 32 92 87 10 43 14 18 91 12 28 34 72 87 36  7 48 21 56  5 88 16  4 43 49 42 91 64 99 60  9 11 10 88 41\n",
    "    93 33 48 71 46 23  7 70 78 71 34 43 88 35  6 59 43 98 22 13 43 64 18 25 62 53 85 31 47 23 95 74 36 29 39 43 59 24 42 88 16 23 33 20  2  1 47 39 84 94 40 74 34  7 20 80 34 50 26 28  8 30 49  4  1 31 18  1 43 79 98 87 72 70 26 23  1 68 31 62 48 17 69 13 14 42 37 21 12 37 95 42  3 21 75 15  5 21 51 99 38 55 80 36 39 99 59 35  1 96 64 84 38 79 75 12 46 60 33 81 13 86  5 76 12 46 39 91 86 49  7 56 75 73 58 88  3 40 56 43 27 93 30 36 10 98 65 49 59 76 10 24 84 11  8 33 54 90 30 51 24  4 51 16 67 21 90  9 18  6 72 33 54 27 46 52 69 34 29 92 14 62 39 27  4 96 63 15 62 63 40 72 30 30 91 94 88 89 99 63\n",
    "    10 99 37 79 24 82 12 84 49 15 48 58  9 74 22 43 84 18 30 86 53 87 79 83 93  7 78 31 95 32 55 46  3 93 36 77 67 29 70 34 45 16 99 70 48 86 31 88 69 10 54 12 10 74 86 56 82 40 93 10 59 11 35 84 88 40 78 57 21  5 68 73 13 71 35 13 71 76 28 13 52 58 31 53 12 24 83 71 49 78 15 24  6 72 48  3 49 81 15 13 36 94  3 35 37 48 66 31  4  6 23 48 50 41 23 57  5  5 23 21 58 96  9 40  2 55  2  9 78 37 52 78 18 85 79  6 23 47 82 66 24 14  9 37  1 33 94 82 60 79  4 69 92 51  7 36 96 40 15 53 90 19 19 97 39 37  4 25 63 95 12 55 89 11 38 47 45 27  2 98 89 24 58 84 33 24 71 25 14 37 45 30 27 43 36 88 44 20 29 48\n",
    "    9 93 84 58 14 31 19 16 41  9 67 74 85 90 77 40 33 42 74 16 45 62 44 68 76 76 78 29 15 30 93 16 38 27 32 31 88 79 86 61 30 55  8 90 70 58 35 11 66 63 26 92 29 98 59 18 39  1 27  4 38 42 69  4 68 30 39 75 87 45 83 30 55 37 31 74 49 18 76 46 78 99 58 84 89 74  1 86 95 58 17 18 70 49 21 43 26 67 66 89 66 63 88 45 52 89 83 80 58 52 21 34 96 69 81 65 61 82 75 61 22 52 10 50 30 84 86 16 54 54 70 37 18 96 80 80 21 58 70 71 62  4  1  4 69 70 77 28 47 78 64 58 47 17 67 84 59 51 47 61 51 97 65  7 71 75 47 83  1 46 54 76 54 59 37 47 55 76 75 23 41 28 78 58 51 40 16 21 88 59  3 39 73 34 45 20 66 35 96 24\n",
    "    79  2 54 78 71 65 95 21 18 54  1 87 29 19 38 44 46 25 48 66 81 42 48 34 73 32 68 60 63 49 19 54 14 40 83 66 27 89 69 34 27  3 97 40 57  3 45 42  1 63 14 29 53  5 71 44 57 77 43 59 25 52 19 34 16 38 61 53 36 87  3 56  1  4  4 98 90 23 78 64 90 18 19 67 82 16 53 18 17 25 71 12 24 32 44 39 40 47 53 75 83 35 53  1 35 67 26 13 52 31 11 37 13 73 37 56 55 81 61 75 34  2 29  2 60 17 55  3 94 70 35 71 62 92 39 47 10 72  5 40  1 15 67 10 31 40  7 54 86  4  2 89 36 33 98 70 91 64 41 19 24 84 50 51 60  3 56 79  8 34 93 79 72  7 90  2 76  1  7 57 19  2 11 84  9 88 50 52 49 10 23 30 75 43 88 66 23 34  1 82\n",
    "    44 40 27 41  9 77 98 64 14  2 19  9 19 28 69 90 71 83  2 16  9 60  1 44 25 86 45 68  1 56 64  7 68 96 30 62 32 25 27 97 54 28 65  7 71 74  8 46 76 45 11 92 54 31 51 48 27 55 39 71 18 48  8 35 62 52 65 95 55  7 37 91 91 73 56 22 98 96 82 84 31 44 19 60 19 56  6 45 24 10  6 44 57 43  1 42 20 83 57 34 67 64 92 35 55 99 23 52 30  6 81 91 89 45 33 55 74 46 50 29  2 80 12 63 96 88 47 21 30 44 64 51 95 57 96 62 11  8 92  1 51 32 96 88 15  5 56 68 10 89 43  4 51 84 35 53 82 41 62 78 72 32 17  9 67 74 27 55 76  1 41 73 89  2 45 99 37 74 95 78 48 95 11 28 21  8 88 29 60  2 47 15  1 64 55 32 49 20 33 68\n",
    "    84  1 47 60 31 76 12 75 90 72  8 86 86 70 46 52 31 36 10 19 85 49 61 10 26 38 97 71 34 74 12 77 16 55 90 61 43 42 81  1  8 51 16 14 25 92 98 28 97 38 95 78 48 66 18 19 25 79 90 26 48 81 95 37  6 86 83 67 74 91 99 55 79 46 10 52 22 39  8 13 32  4  7 47 34  1 12 93 62 11 81 26 31 41  5 40 11 56 67 49 92  8 79  5 72 77 60 21 23 51 16 73 59 20 83  9 60 68 14 67 86 35 58 13 55 57 14 79 72 27 42 59 58 36 63  1 45 10  8 66 62 95 88 69 38 30 60 33 87 91 48 46 18 31 22  2 96 56 17 49 87 35 69 66 69 30 30 77 98 55 78 45 84 47 58 24 56 50 53 12 43 73  3 32 91 25 44 55 97 10 42 73 74 16 47 68  9 92  4 48\n",
    "    35  3  9 71 99 89 92 60 44 59  8 51 60 35  5 81 67 70 79  7 51  1 38 91  3 88 88  6 68 26 38 93 89 85 82 99 47 60  4 41 86 12 19 80 37 55 59 55 26 40 22 72 90 39 60 14 92 47 90 43 15  8 24 93 40 68 68 67 41 72 72 73 44 34 24 19 27 31 80  4 94  3 31 38 44 87 77  2 66 20 79 89 90 84 40  8 65 80 50 89 29 98 45 66 64 86 75 64 83 12 69  7 27 20 92 28 36  2 86 71 34 74 86 68 94 78 38 77 69 56 12 64 99 41 25 58 20 86 58 13 20 11 33 55  5 71 62 50 93 74  6 39 90  5 81 28 33 78 95 82 38 41  4 94 44 10 28 33 66 16 45 51 89 69 23  9  8 43 64 15 15 26 48  9 11 56 75 75 63 17 93 38 22 22 17 24 93 17 48 27\n",
    "    18 77 73 91 96 10 58 70 42 21 11 88 91 78 70 53 51 96 27 47 30 37 63 61 73 80  5 82 49 11 79 78 57 47 91 92 94 33 52 12 37 47 39  4 50 90 58 46 14 84 97 49 33 48 68 36 66  6 54 16  7 35 64 18  8 61 41 65 71 34 35 92 70 65 76 71 81 32 27 95 49 51 65 17 91 23 17 19 28 70 67 40 81 54 52 38  6  8 31 98 14 17 31 37 85 84  7 54 40 95 97 44  4 46 10 63 76 23 95 73 78 46 40 34 92 42 56  4 63 93 72 63 62 30 91 96 53 19 40 14 16 66 54 54 64 86 31 99 10  2 74 29 77 14 30 14 48  1  4 71 54 30 42 43 33 32 12 68  8 82 27 59 20 60 76 44 29 68 24 46 94 79 68 49 85 87 17 99 76 81 52 24 57  8 36 67 57 66  5 69\n",
    "    75 43 70 11 64 88 94  9 29 58 90 78 63 34 71 49 69 97 10 43 22 16 31 22 62 14 11 46 85 59 73 22 70 52 70 45 45 37  2 90  2 40 70 93 44 71 83 13  3 99 27 98 62 17 35 71 94 58 77 29 61 41 47  2 16 41 59 27 18 33  1 99  3 15 45 82 20 11 90 65 73 71 26 97 50 43  7 78 27 50 70 65 96 27 66 18 96 66 82 23 69 28 95 38 89 19  6 52 70  4 81  1 36 30 13 90 30 66 28 36 38 48 97 56 92 93 81 24 38 39 33  7 75 43 92 44 35  2 96 28 13 67 61 71 20 54 53 75 58 74 65 21 60 72  4 85 47 80 71 26 73 36 38 13 66 82  2 76 29 90 36 32 84 78 94 45 14 72  3 18 58 87 30 73 71  5 77 60  6 61 23 29  2 67 69 38 37 80 51 34\n",
    "    89 41 16  7 84 53 56 71 40 17 33  3 51 76  2 63 84 55  3 82 46 58 24 57 59 86 39 55 69 36 98 82 44 70 67 74 61 38 87 35 37 98 26 49 12 52 49 92 43 75 83  3 99 87 60 92 75 53 30 59 95 85 63 21 78 72 87 52 39 93 22 82 21 65 81 59 73 74 33 53 47 69 11 31 69 67  3 21 29 28 45  2 53 36  5 79 76 32 87  4 44  8 16 93 93 64 65  1 40 74 59 21 79  9  2 70 88  3 95 77 76 94 90 67 27 18 49  3 79 12  6 72 46  7 56 33 59 86 33 28 84 59 54 99 30 14 65 34  6 91 89 80 34 35 91 44 52 73 93 98 30 20 58 34 14 46 61 73 87 41  9 57 82 17 19 32 47 89  2 94 17 98 13 84 12 66 90 86 83 75 67 33 40 56 21 43  1 92  4 44\n",
    "    52 89 39 71 72 71 68 42 94 83 14 76 90 14 83  3  1 12 51 46  2 92 23 69 65 30 48 70 15 62 48 19 49  5 22 45 15 29 65 72 45 53  8 11 21 46 95 42 66 23 39 86  4 95  8 41 85 66 68 37 51 46 93 59 14 25 71 15 89 94 61  5 45 52  9 70 50 44 79 64 47  4 59 45 91 35 71 63 94 86  3 77 37 84 50 97 21 42  6 19 96 51 53 95 76 95 50 52 27 97 96 88 92 33 23 38 37 11  6 55 40  1 69 96 76 46 66  8 84 62 95 30 20 90 66 76 46 38 41 83 43 37 93 80 68 92 94 21 68 53 76 40  4 89 52 54 87 86 20 15 61 25 85 58  6 40 98 93 78 55 75 97 52 27 32 81 73 29 34 35 78 29 45 25 54 74 77 85 64  2 27 81 17 31 37 20 69 59 39 13\n",
    "    32 78 84 27 32 84 74 72 85 60 55 60  8 34 54 47 60  8 39 42 10 62 52 65 32 61  9 25 15 56  3 13 59 95 93 49 67 17 39 91 60 90 94 53 25 12 63 75 63  7 80 16 39 37  7  1 38 48 38 39 83 27 14 46 46 59 12 20  7 85 74 49 48  6 73 57 44 41 35 68 61  1 16 37 70 26 76 87 42 26 22  2 81 55 12 47 26 91 37 41 11 82 26 57 33 21 37 67 22 33 47  3 55 19 61 38 63 42 20 62 45 78 57 31 33 71 73 87 46 21 52 95 66 24 27 63 48 43 87 44 87 58 24 50 33 62 56 86 58 42 84 35 91 49 52 86 45 62  3 50 83 57  8 88 10 88 50 22 49 44  6 26 34 40 26 49 93 77 38 15 50 15 22 88 42 63 56 61 64 63 30  4 21 95 20 30 86 95 82 10\n",
    "    \"\"\"\n",
    "    # Split the matrix into rows\n",
    "    rows = data_set[index].strip().split(\"\\n\")\n",
    "    # Convert each row to a list of integers\n",
    "    matrix = [list(map(int, row.split())) for row in rows]\n",
    "\n",
    "    # Convert the matrix to a list of tuples\n",
    "    proc_times = [list(row) for row in matrix]\n",
    "    # Split the matrix into columns by transposing it\n",
    "    columns = zip(*[map(int, col.split()) for col in data_set[index].strip().split(\"\\n\")])\n",
    "\n",
    "    # Convert the columns to a list of tuples\n",
    "    proc_times = [tuple(col) for col in columns]\n",
    "    return proc_times\n",
    "\n",
    "processing_times = problem_import(1)\n",
    "print(processing_times)\n",
    "num_jobs = len(processing_times)\n",
    "num_machines = len(processing_times[0])"
   ],
   "metadata": {
    "collapsed": false,
    "ExecuteTime": {
     "end_time": "2024-03-25T10:34:23.811314Z",
     "start_time": "2024-03-25T10:34:23.777140Z"
    }
   },
   "id": "6656df18e0319c52",
   "execution_count": 2
  },
  {
   "cell_type": "code",
   "outputs": [
    {
     "name": "stdout",
     "output_type": "stream",
     "text": [
      "total processing time of job 1 is 273\n",
      "first machine processing time of job 1 is 54\n",
      "total processing time of job 2 is 289\n",
      "first machine processing time of job 2 is 83\n",
      "total processing time of job 3 is 126\n",
      "first machine processing time of job 3 is 15\n",
      "total processing time of job 4 is 338\n",
      "first machine processing time of job 4 is 71\n",
      "total processing time of job 5 is 353\n",
      "first machine processing time of job 5 is 77\n",
      "total processing time of job 6 is 277\n",
      "first machine processing time of job 6 is 36\n",
      "total processing time of job 7 is 278\n",
      "first machine processing time of job 7 is 53\n",
      "total processing time of job 8 is 221\n",
      "first machine processing time of job 8 is 38\n",
      "total processing time of job 9 is 207\n",
      "first machine processing time of job 9 is 27\n",
      "total processing time of job 10 is 305\n",
      "first machine processing time of job 10 is 87\n",
      "total processing time of job 11 is 257\n",
      "first machine processing time of job 11 is 76\n",
      "total processing time of job 12 is 234\n",
      "first machine processing time of job 12 is 91\n",
      "total processing time of job 13 is 197\n",
      "first machine processing time of job 13 is 14\n",
      "total processing time of job 14 is 235\n",
      "first machine processing time of job 14 is 29\n",
      "total processing time of job 15 is 225\n",
      "first machine processing time of job 15 is 12\n",
      "total processing time of job 16 is 265\n",
      "first machine processing time of job 16 is 77\n",
      "total processing time of job 17 is 191\n",
      "first machine processing time of job 17 is 32\n",
      "total processing time of job 18 is 343\n",
      "first machine processing time of job 18 is 87\n",
      "total processing time of job 19 is 269\n",
      "first machine processing time of job 19 is 68\n",
      "total processing time of job 20 is 270\n",
      "first machine processing time of job 20 is 94\n"
     ]
    }
   ],
   "source": [
    "# define the order of the jobs based on longest total processing time\n",
    "total_processing_time={}\n",
    "first_machine_processing_time=[]\n",
    "for i in range(len(processing_times)):\n",
    "    total_processing_time[f'job {i+1}']=sum(processing_times[i])\n",
    "    print('total processing time of job', i+1,'is', total_processing_time[f'job {i+1}'])\n",
    "    first_machine_processing_time.append(processing_times[i][0])\n",
    "    print('first machine processing time of job', i+1, 'is', first_machine_processing_time[i])"
   ],
   "metadata": {
    "collapsed": false,
    "ExecuteTime": {
     "end_time": "2024-03-25T10:34:23.827110600Z",
     "start_time": "2024-03-25T10:34:23.812385200Z"
    }
   },
   "id": "66490098368ac864",
   "execution_count": 3
  },
  {
   "cell_type": "code",
   "outputs": [
    {
     "name": "stdout",
     "output_type": "stream",
     "text": [
      "Ordered jobs by processing time and criteria:\n",
      "1. job 5 (Processing time: 353, first machine processing time criteria: 77)\n",
      "2. job 18 (Processing time: 343, first machine processing time criteria: 38)\n",
      "3. job 4 (Processing time: 338, first machine processing time criteria: 71)\n",
      "4. job 10 (Processing time: 305, first machine processing time criteria: 94)\n",
      "5. job 2 (Processing time: 289, first machine processing time criteria: 83)\n",
      "6. job 7 (Processing time: 278, first machine processing time criteria: 53)\n",
      "7. job 6 (Processing time: 277, first machine processing time criteria: 36)\n",
      "8. job 1 (Processing time: 273, first machine processing time criteria: 54)\n",
      "9. job 20 (Processing time: 270, first machine processing time criteria: 94)\n",
      "10. job 19 (Processing time: 269, first machine processing time criteria: 27)\n",
      "11. job 16 (Processing time: 265, first machine processing time criteria: 36)\n",
      "12. job 11 (Processing time: 257, first machine processing time criteria: 54)\n",
      "13. job 14 (Processing time: 235, first machine processing time criteria: 71)\n",
      "14. job 12 (Processing time: 234, first machine processing time criteria: 83)\n",
      "15. job 15 (Processing time: 225, first machine processing time criteria: 77)\n",
      "16. job 8 (Processing time: 221, first machine processing time criteria: 38)\n",
      "17. job 9 (Processing time: 207, first machine processing time criteria: 27)\n",
      "18. job 13 (Processing time: 197, first machine processing time criteria: 15)\n",
      "19. job 17 (Processing time: 191, first machine processing time criteria: 53)\n",
      "20. job 3 (Processing time: 126, first machine processing time criteria: 15)\n",
      "['job 5', 'job 18', 'job 4', 'job 10', 'job 2', 'job 7', 'job 6', 'job 1', 'job 20', 'job 19', 'job 16', 'job 11', 'job 14', 'job 12', 'job 15', 'job 8', 'job 9', 'job 13', 'job 17', 'job 3']\n"
     ]
    }
   ],
   "source": [
    "def order_jobs_by_processing_and_criteria(job_times, criteria_list):\n",
    "    # Sort the dictionary by values (processing times) in descending order\n",
    "    # If processing times are equal, use the second criteria list to break the tie\n",
    "    sorted_jobs = sorted(job_times.items(), key=lambda x: (x[1], criteria_list[int(x[0][-1]) - 1]), reverse=True)\n",
    "    \n",
    "    # Extract the job names from the sorted list\n",
    "    ordered_jobs = [job[0] for job in sorted_jobs]\n",
    "    \n",
    "    return ordered_jobs\n",
    "\n",
    "ordered_jobs = order_jobs_by_processing_and_criteria(total_processing_time, first_machine_processing_time)\n",
    "print(\"Ordered jobs by processing time and criteria:\")\n",
    "for i, job in enumerate(ordered_jobs, start=1):\n",
    "    print(f\"{i}. {job} (Processing time: {total_processing_time[job]}, first machine processing time criteria: {first_machine_processing_time[int(job[-1])-1]})\")\n",
    "print(ordered_jobs)\n"
   ],
   "metadata": {
    "collapsed": false,
    "ExecuteTime": {
     "end_time": "2024-03-25T10:34:23.894955800Z",
     "start_time": "2024-03-25T10:34:23.831604100Z"
    }
   },
   "id": "248b45b3817e806",
   "execution_count": 4
  },
  {
   "cell_type": "code",
   "outputs": [
    {
     "name": "stdout",
     "output_type": "stream",
     "text": [
      "[(77, 56, 89, 78, 53), (87, 86, 75, 77, 18), (71, 99, 15, 68, 85), (87, 56, 64, 85, 13), (83, 3, 89, 58, 56), (53, 99, 60, 13, 53), (36, 70, 45, 91, 35), (54, 79, 16, 66, 58), (94, 77, 40, 31, 28), (68, 5, 77, 51, 68), (77, 14, 47, 40, 87), (76, 3, 7, 85, 86), (29, 75, 41, 41, 49), (91, 61, 1, 9, 72), (12, 47, 63, 56, 47), (38, 60, 23, 59, 41), (27, 5, 57, 49, 69), (14, 73, 63, 39, 8), (32, 21, 26, 54, 58), (15, 11, 49, 31, 20)]\n",
      "total makespan is 1556\n",
      "Total time to run all cells: 0.10 seconds\n"
     ]
    },
    {
     "data": {
      "text/plain": "<Figure size 1000x600 with 1 Axes>",
      "image/png": "[encoded data removed]"
     },
     "metadata": {},
     "output_type": "display_data"
    }
   ],
   "source": [
    "def gantt_plotting(processing_times, ordered_jobs):\n",
    "    color_palette = ['aliceblue', 'antiquewhite', 'aqua', 'aquamarine', 'azure', 'beige', 'bisque', 'black',\n",
    "                     'blanchedalmond', 'blue', 'blueviolet', 'brown', 'burlywood', 'cadetblue', 'chartreuse',\n",
    "                     'chocolate', 'coral', 'cornflowerblue', 'cornsilk', 'crimson', 'cyan', 'darkblue', 'darkcyan',\n",
    "                     'darkgoldenrod', 'darkgray', 'darkgreen', 'darkgrey', 'darkkhaki', 'darkmagenta', 'darkolivegreen',\n",
    "                     'darkorange', 'darkorchid', 'darkred', 'darksalmon', 'darkseagreen', 'darkslateblue',\n",
    "                     'darkslategray', 'darkslategrey', 'darkturquoise', 'darkviolet', 'deeppink', 'deepskyblue',\n",
    "                     'dimgray', 'dimgrey', 'dodgerblue', 'firebrick', 'floralwhite', 'forestgreen', 'fuchsia',\n",
    "                     'gainsboro', 'ghostwhite', 'gold', 'goldenrod', 'gray', 'green', 'greenyellow', 'grey', 'honeydew',\n",
    "                     'hotpink', 'indianred', 'indigo', 'ivory', 'khaki', 'lavender', 'lavenderblush', 'lawngreen',\n",
    "                     'lemonchiffon', 'lightblue', 'lightcoral', 'lightcyan', 'lightgoldenrodyellow', 'lightgray',\n",
    "                     'lightgreen', 'lightgrey', 'lightpink', 'lightsalmon', 'lightseagreen', 'lightskyblue',\n",
    "                     'lightslategray', 'lightslategrey', 'lightsteelblue', 'lightyellow', 'lime', 'limegreen', 'linen',\n",
    "                     'magenta', 'maroon', 'mediumaquamarine', 'mediumblue', 'mediumorchid', 'mediumpurple',\n",
    "                     'mediumseagreen', 'mediumslateblue', 'mediumspringgreen', 'mediumturquoise', 'mediumvioletred',\n",
    "                     'midnightblue', 'mintcream', 'mistyrose', 'moccasin', 'navajowhite', 'navy', 'oldlace', 'olive',\n",
    "                     'olivedrab', 'orange', 'orangered', 'orchid', 'palegoldenrod', 'palegreen', 'paleturquoise',\n",
    "                     'palevioletred', 'papayawhip', 'peachpuff', 'peru', 'pink', 'plum', 'powderblue', 'purple',\n",
    "                     'rebeccapurple', 'red', 'rosybrown', 'royalblue', 'saddlebrown', 'salmon', 'sandybrown',\n",
    "                     'seagreen', 'seashell', 'sienna', 'silver', 'skyblue', 'slateblue', 'slategray', 'slategrey',\n",
    "                     'snow', 'springgreen', 'steelblue', 'tan', 'teal', 'thistle', 'tomato', 'turquoise', 'violet',\n",
    "                     'wheat', 'white', 'whitesmoke', 'yellow', 'yellowgreen']\n",
    "    machine_names = []\n",
    "    durations = []\n",
    "    colors = []\n",
    "    # Create a dictionary to map job names to their corresponding list\n",
    "    processing_times_dict = {f'job {i+1}': times for i, times in enumerate(processing_times)}\n",
    "    sorted_processing_times = []\n",
    "    for i in range(num_jobs):\n",
    "        sorted_processing_times.append(processing_times_dict[ordered_jobs[i]])\n",
    "\n",
    "    for i in range(num_jobs):\n",
    "        for k in range(num_machines):\n",
    "            machine_names.append(f'machine {k+1}')\n",
    "            durations.append(sorted_processing_times[i][k])\n",
    "            colors.append(color_palette[i+8])\n",
    "    start_times = []\n",
    "    helper_2 = 0\n",
    "    dict_end_times={}\n",
    "    print(sorted_processing_times)\n",
    "    counter=0\n",
    "    for k in range(num_jobs):\n",
    "        helper_1=0\n",
    "        for i in range(num_machines):\n",
    "            if k != 0 and i == 0:\n",
    "                helper_2 += sorted_processing_times[k-1][0]\n",
    "            if i != 0:\n",
    "                helper_1 += sorted_processing_times[k][i-1]\n",
    "            helper = helper_1 + helper_2\n",
    "            dict_end_times[f\"M_{i + 1}_S_{k + 1}\"] = helper+durations[counter]\n",
    "            if i != 0 and k != 0:\n",
    "                if dict_end_times[f\"M_{i+1}_S_{k}\"] > helper:\n",
    "                    wait_time = dict_end_times[f\"M_{i + 1}_S_{k}\"]-helper\n",
    "                    dict_end_times[f\"M_{i + 1}_S_{k + 1}\"] += wait_time\n",
    "                    helper += wait_time\n",
    "                if dict_end_times[f\"M_{i}_S_{k+1}\"] > helper:\n",
    "                    idle_time = dict_end_times[f\"M_{i}_S_{k+1}\"]-helper\n",
    "                    dict_end_times[f\"M_{i+1}_S_{k + 1}\"] += idle_time\n",
    "                    helper += idle_time\n",
    "            start_times.append(helper)\n",
    "            counter += 1\n",
    "    \n",
    "    last_value = list(dict_end_times.values())[-1]      \n",
    "    print(f'total makespan is {last_value}')\n",
    "    # Record the end time\n",
    "    end_time = time.time()\n",
    "    total_time = end_time - start_time\n",
    "    print(f\"Total time to run all cells: {total_time:.2f} seconds\")\n",
    "    # Create a Gantt chart\n",
    "    plt.figure(figsize=(10, 6))\n",
    "\n",
    "    # Plot bars for each job\n",
    "    for i, machine_name in enumerate(machine_names):\n",
    "        plt.barh(machine_name, durations[i], left=start_times[i], height=0.6, color=colors[i], alpha=0.8)\n",
    "\n",
    "    plt.xlabel('Time')\n",
    "    plt.ylabel('Machine')\n",
    "    plt.title('Flow Shop Scheduling Gantt Chart')\n",
    "    plt.grid(axis='x')\n",
    "    plt.show()\n",
    "    \n",
    "    \n",
    "gantt_plotting(processing_times, ordered_jobs)"
   ],
   "metadata": {
    "collapsed": false,
    "ExecuteTime": {
     "end_time": "2024-03-25T10:34:24.478073800Z",
     "start_time": "2024-03-25T10:34:23.841343500Z"
    }
   },
   "id": "aa58c0bcf0abe56e",
   "execution_count": 5
  },
  {
   "cell_type": "code",
   "outputs": [
    {
     "name": "stdout",
     "output_type": "stream",
     "text": [
      "Total time to run all cells: 0.72 seconds\n"
     ]
    }
   ],
   "source": [
    "# Record the end time\n",
    "end_time = time.time()\n",
    "total_time = end_time - start_time\n",
    "print(f\"Total time to run all cells: {total_time:.2f} seconds\")"
   ],
   "metadata": {
    "collapsed": false,
    "ExecuteTime": {
     "end_time": "2024-03-25T10:34:24.632910200Z",
     "start_time": "2024-03-25T10:34:24.483517200Z"
    }
   },
   "id": "50c266a5d9c0288e",
   "execution_count": 6
  }
 ],
 "metadata": {
  "kernelspec": {
   "display_name": "Python 3",
   "language": "python",
   "name": "python3"
  },
  "language_info": {
   "codemirror_mode": {
    "name": "ipython",
    "version": 2
   },
   "file_extension": ".py",
   "mimetype": "text/x-python",
   "name": "python",
   "nbconvert_exporter": "python",
   "pygments_lexer": "ipython2",
   "version": "2.7.6"
  }
 },
 "nbformat": 4,
 "nbformat_minor": 5
}
